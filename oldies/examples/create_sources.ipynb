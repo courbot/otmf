{
 "cells": [
  {
   "cell_type": "code",
   "execution_count": 2,
   "metadata": {
    "collapsed": true
   },
   "outputs": [],
   "source": [
    "import numpy as np \n",
    "import sys \n",
    "import matplotlib.pyplot as plt\n",
    "import time\n",
    "import scipy.stats as st\n",
    "import scipy.cluster.vq as cvq\n",
    "import multiprocessing as mp\n",
    "import image_tools as it\n",
    "from scipy.ndimage import imread\n",
    "\n",
    "\n",
    "import numpy.ma as ma\n",
    "import scipy.stats as st\n",
    "import scipy.signal as si\n",
    "from astropy.io import fits\n",
    "from astropy.table import Table\n",
    "import scipy.ndimage.morphology as morph\n",
    "from matplotlib.backends.backend_pdf import PdfPages\n",
    "%matplotlib inline\n",
    "%reload_ext autoreload\n",
    "\n",
    "import parameters\n",
    "#import image_tools as it\n",
    "import gibbs_sampler as gs\n",
    "import fields_tools as ft\n",
    "import seg_OTMF as sot\n",
    "\n",
    "sys.path.insert(0,'./libext/MPDAF')\n",
    "import mpdaf\n",
    "\n",
    "from mpdaf.obj import WCS\n",
    "from mpdaf.obj import WaveCoord\n",
    "from mpdaf.obj import Image\n",
    "from mpdaf.obj import Spectrum\n",
    "from mpdaf.obj import Cube\n",
    "\n",
    "\n",
    "from mpdaf.sdetect import Source, SourceList\n",
    "from mpdaf.sdetect import Catalog"
   ]
  },
  {
   "cell_type": "code",
   "execution_count": 3,
   "metadata": {
    "collapsed": true
   },
   "outputs": [],
   "source": [
    "nom_cube = 'mosaic' # [mosaic] or udf"
   ]
  },
  {
   "cell_type": "code",
   "execution_count": 5,
   "metadata": {
    "collapsed": false
   },
   "outputs": [
    {
     "name": "stderr",
     "output_type": "stream",
     "text": [
      "WARNING: UnitsWarning: 'unitless' did not parse as fits unit: At col 0, Unit 'unitless' not supported by the FITS standard.  [astropy.units.core]\n",
      "WARNING:astropy:UnitsWarning: 'unitless' did not parse as fits unit: At col 0, Unit 'unitless' not supported by the FITS standard. \n",
      "WARNING: UnitsWarning: The unit 'Angstrom' has been deprecated in the FITS standard. Suggested: 10**-1 nm. [astropy.units.format.utils]\n",
      "WARNING:astropy:UnitsWarning: The unit 'Angstrom' has been deprecated in the FITS standard. Suggested: 10**-1 nm.\n",
      "WARNING: UnitsWarning: The unit 'erg' has been deprecated in the FITS standard. Suggested: cm2 g s-2. [astropy.units.format.utils]\n",
      "WARNING:astropy:UnitsWarning: The unit 'erg' has been deprecated in the FITS standard. Suggested: cm2 g s-2.\n"
     ]
    },
    {
     "name": "stdout",
     "output_type": "stream",
     "text": [
      "Total de 745 LAE dans la mosaïque.\n"
     ]
    },
    {
     "name": "stderr",
     "output_type": "stream",
     "text": [
      "/home/miv/courbot/anaconda/lib/python2.7/site-packages/astropy/table/column.py:1095: MaskedArrayFutureWarning: setting an item on a masked array which has a shared mask will not copy the mask and also change the original mask array in the future.\n",
      "Check the NumPy 1.11 release notes for more information.\n",
      "  ma.MaskedArray.__setitem__(self, index, value)\n"
     ]
    }
   ],
   "source": [
    "\"\"\" Catalog loading\"\"\"\n",
    "\n",
    "if nom_cube=='mosaic':\n",
    "    cat = Catalog.read('./data/mosaic_lya_sources/mosaic_c031_e028_withz.fits')\n",
    "\n",
    "    cat_lya=cat[cat['TYPE']==6]\n",
    "\n",
    "    print 'Total de %.0f LAE dans la mosaïque.'%len(cat_lya)\n",
    "    \n",
    "elif nom_cube=='udf10':\n",
    "\n",
    "    cat = Catalog.read('./data/udf10_c031_e026_withz.vot')\n",
    "    \n",
    "    cat_lya=cat[cat['TYPE']==6]\n",
    "    \n",
    "    print 'Total de %.0f LAE dans le cube UDF10'%len(cat_lya)\n",
    "    \n",
    "else:\n",
    "    print 'Erreur sur le nom de cube !'"
   ]
  },
  {
   "cell_type": "code",
   "execution_count": null,
   "metadata": {
    "collapsed": false
   },
   "outputs": [],
   "source": [
    "\"\"\"Object list\"\"\"\n",
    "\n",
    "if nom_cube=='mosaic':\n",
    "    liste_obj = (63,   68,   82,  102,  109,  126,  148,  153,  168,  171,  183, 214,  218,  262,  263,  298,\n",
    "            299,  324,  364,  399,  400,  489, 579,  587,  590,  606,  619,  736, 1059, 1087, 1113, 1228,\n",
    "            1445, 1446, 1477, 1478, 1486, 1581, 1583, 1593, 1665, 1670, 1711, 1714, 1723, 1724, 1726, 1737,\n",
    "            1756, 1843, 1864, 1931, 1969, 1971, 1991, 2049, 2103, 2132, 2155, 2171, 2178, 2211, 2217, 2264,\n",
    "            2333, 2335, 2363, 2389, 2403, 2467, 2495, 2515, 2522, 2547, 2598, 2634, 2672, 2687, 2727, 2733,\n",
    "            2817, 2847, 2861, 2865, 2885, 3027, 3055, 3089, 3138, 3156, 3219, 3234, 3238, 3240, 3242, 3257,\n",
    "            3286, 3305, 3329, 3335, 3421, 3426, 3480, 3484, 3492, 3494, 3585, 3589, 3611, 3634, 3672, 3723,\n",
    "            3746, 3797, 3858, 3930, 3933, 3946, 4141, 4205, 4231, 4333, 4381, 4515, 4598, 4661, 4755, 4776,\n",
    "            4802, 4842, 4870, 5027, 5225, 5281, 5308, 5439, 5452, 5566, 5949, 6101, 6341, 6372, 6375, 6376,\n",
    "            6389, 6391, 6398, 6423, 6430, 6447, 6457, 6458, 6459, 6483, 6485, 6489, 6492, 6497, 6507, 6520,\n",
    "            6537, 6550, 6565, 6570, 6572, 6578)\n",
    "\n",
    "    print 'Total de %.0f objets retenus dans la mosaïque.'%len(liste_obj)\n",
    "else:\n",
    "    liste_obj = (78,149,153,157,183,208,214,237,547,619,802,828,6311,6312,6290,6295)\n",
    "    \n",
    "    print 'Total de %.0f objets retenus dans UDF10.'%len(liste_obj)"
   ]
  },
  {
   "cell_type": "code",
   "execution_count": null,
   "metadata": {
    "collapsed": true
   },
   "outputs": [],
   "source": [
    "\"\"\"Cube loading\"\"\"\n",
    "if nom_cube=='mosaic':\n",
    "    cube = Cube('./data/DATACUBE_UDF-MOSAIC.fits')\n",
    "else:\n",
    "    cube = Cube('./data/DATACUBE_UDF-10.fits')"
   ]
  }
 ],
 "metadata": {
  "kernelspec": {
   "display_name": "Python 2",
   "language": "python",
   "name": "python2"
  },
  "language_info": {
   "codemirror_mode": {
    "name": "ipython",
    "version": 2
   },
   "file_extension": ".py",
   "mimetype": "text/x-python",
   "name": "python",
   "nbconvert_exporter": "python",
   "pygments_lexer": "ipython2",
   "version": "2.7.12"
  }
 },
 "nbformat": 4,
 "nbformat_minor": 0
}
