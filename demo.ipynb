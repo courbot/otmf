{
 "cells": [
  {
   "cell_type": "markdown",
   "metadata": {},
   "source": [
    "# OTMF demonstration notebook"
   ]
  },
  {
   "cell_type": "markdown",
   "metadata": {},
   "source": [
    "This is the jupyter Notebook demonstration associated to the repository github.com/courbot/otmf.\n",
    "\n",
    "Author : Jean-Baptiste Courbot\n",
    "\n",
    "Website & contact informations: http://www.jb-courbot.fr/\n",
    "\n",
    "This code is a prototype. If something is unclear or if you spot a bug, feel free to contact me !\n",
    "\n",
    "**************************************\n",
    "\n",
    "When using these codes, please cite :\n",
    "Courbot, J. B., Monfrini, E., Mazet, V.  & Collet, C. (2018). Oriented Triplet Markov Fields. Pattern Recognition Letters, 103, 16-22.\n",
    "\n",
    "See README.md for licence & setup informations."
   ]
  },
  {
   "cell_type": "markdown",
   "metadata": {},
   "source": [
    "### Imports"
   ]
  },
  {
   "cell_type": "code",
   "execution_count": 2,
   "metadata": {
    "collapsed": true
   },
   "outputs": [],
   "source": [
    "import numpy as np \n",
    "import sys \n",
    "import matplotlib.pyplot as plt\n",
    "import matplotlib.image as im\n",
    "import time\n",
    "from PIL import Image\n",
    "import warnings\n",
    "warnings.filterwarnings('ignore')\n",
    "\n",
    "\n",
    "from scipy.ndimage import zoom\n",
    "from scipy.ndimage.filters import gaussian_filter \n",
    "from scipy.ndimage.filters import median_filter \n",
    "\n",
    "% matplotlib inline\n",
    "%load_ext autoreload\n",
    "%autoreload 2\n",
    "\n",
    "plt.rcParams['image.origin'] = 'lower'\n",
    "plt.rcParams['image.interpolation'] = 'nearest'\n",
    "plt.rcParams['image.cmap'] = 'gray'"
   ]
  },
  {
   "cell_type": "code",
   "execution_count": 3,
   "metadata": {
    "collapsed": true
   },
   "outputs": [],
   "source": [
    "from otmf import parameters\n",
    "from otmf import gibbs_sampler as gs\n",
    "from otmf import fields_tools as ft\n",
    "import otmf.segmentation as sot\n",
    "from otmf import parameter_estimation as pe"
   ]
  },
  {
   "cell_type": "markdown",
   "metadata": {},
   "source": [
    "### Misc functions (display, etc)"
   ]
  },
  {
   "cell_type": "code",
   "execution_count": 4,
   "metadata": {
    "collapsed": true
   },
   "outputs": [],
   "source": [
    "def plot_directions(angle,pas,taille=1):\n",
    "    \n",
    "    S0 = angle.shape[0]\n",
    "    S1 = angle.shape[1]\n",
    "    \n",
    "    y,x = np.ogrid[0:S0,0:S1]\n",
    " \n",
    "    angle2 = angle\n",
    "\n",
    "    deb_x = np.tile(x,(S0,1)) - taille*np.sin(angle2) \n",
    "    deb_y = np.tile(y,(1,S1)) - taille*np.cos(angle2) \n",
    "    \n",
    "    fin_x = np.tile(x,(S0,1)) + taille*np.sin(angle2) \n",
    "    fin_y = np.tile(y,(1,S1)) + taille*np.cos(angle2) \n",
    "    \n",
    "    \n",
    "    for i in range(int(pas/2.),S0,pas):\n",
    "        for j in range(int(pas/2.),S1,pas):\n",
    "                plt.plot((deb_x[i,j],fin_x[i,j]), (deb_y[i,j],fin_y[i,j]) ,'k',linewidth=1)\n",
    "    plt.xlim((-0.5,S1-0.5))\n",
    "    plt.ylim((-0.5,S0-0.5))     \n",
    "def plot_taux(im,ref,title):\n",
    "    \n",
    "    taux = (im!=ref).mean() * 100\n",
    "    plt.imshow(im.T,  interpolation='nearest', origin='lower', cmap=plt.cm.bone,); \n",
    "    plt.title(title + ' - %.2f'%taux)\n",
    "    plt.axis('off')\n",
    "    \n",
    "def calc_error(A,B):\n",
    "    return (A[~np.isnan(B)] != B[~np.isnan(B)] ).mean()"
   ]
  },
  {
   "cell_type": "markdown",
   "metadata": {},
   "source": [
    "### Data loading"
   ]
  },
  {
   "cell_type": "code",
   "execution_count": 5,
   "metadata": {
    "collapsed": true
   },
   "outputs": [],
   "source": [
    "def gen_exp(experiment,S0,S1,sig):\n",
    "    \n",
    "    print('Experiment '+experiment)\n",
    "\n",
    "    if experiment=='A': # here v is fixed, and x is a realization of p(X|V=v)\n",
    "        \n",
    "        print('Here, v is fixed, and x is a realization of p(X|V=v).')\n",
    "\n",
    "        dat = np.load('./data/expA.npz') # this path is relative to the position of demo.ipynb in the repo\n",
    "        X=(dat['X'] > 0)[:S0,:S1]\n",
    "\n",
    "        V = np.pi/4 * np.ones(shape=(S0,S1))\n",
    "        V[64:,:] = 3*np.pi/4\n",
    "        V[:,64:] = (V[:,64:] + np.pi/2)%np.pi\n",
    "        \n",
    "    elif experiment=='B':\n",
    "\n",
    "        dat = np.load('./data/expB.npz')\n",
    "        X=(dat['X']>0).astype(float)\n",
    "        V=dat['V']\n",
    "            \n",
    "        print('Here, v and x come from a simulation from p(X,V).')\n",
    "\n",
    "    Y = np.zeros(shape=(S0,S1,1))\n",
    "    Y[:,:,0] = X + np.random.normal(loc=0.,scale=sig,size=(S0,S1))\n",
    "\n",
    "    return X[:S0,:S1],V[:S0,:S1],Y[:S0,:S1,:]\n",
    "\n"
   ]
  },
  {
   "cell_type": "markdown",
   "metadata": {},
   "source": [
    "##### Here you chose the image to process then load it."
   ]
  },
  {
   "cell_type": "code",
   "execution_count": 6,
   "metadata": {},
   "outputs": [
    {
     "name": "stdout",
     "output_type": "stream",
     "text": [
      "Experiment B\n",
      "Here, v and x come from a simulation from p(X,V).\n"
     ]
    }
   ],
   "source": [
    "# Choose the experiment ('A' or 'B')\n",
    "experiment = 'B'\n",
    "\n",
    "# choose the image size (up to 128x128 px for the proposed experiments) \n",
    "S0 = S1 = 128\n",
    "\n",
    "\n",
    "# What orientations do we search for, sampled between 0 and pi.\n",
    "v_range = np.array([np.pi/4, 3*np.pi/4])\n",
    "# note : using 0 or pi is not recommended as it creates 0-valued potential functions which unbalance the processing.\n",
    "\n",
    "# What classes do we search for X:\n",
    "x_range = np.array([0.,1.])\n",
    "\n",
    "# A parameter class gathering the previous informations (among others, see source).\n",
    "pargibbs = parameters.ParamsGibbs(S0 = S0,\n",
    "                             S1 = S1,\n",
    "                             v_range = v_range,\n",
    "                             x_range = x_range\n",
    "                             )# beta=1.25,\n",
    "\n",
    "# Now to generate the image, we set the standard deviation from the SNR.\n",
    "SNR = 7 # in dB\n",
    "\n",
    "sig = 1./10**(SNR/20.) # this expression must be modified if you use k>2 classes.\n",
    "\n",
    "# X, V, Y are retrieved from data (for X,V) and simulated (for Y).\n",
    "X,V,Y = gen_exp(experiment,S0,S1,sig)\n",
    "\n",
    "# We add this image as a field of pargibbs.\n",
    "pargibbs.Y = Y\n",
    "\n"
   ]
  },
  {
   "cell_type": "markdown",
   "metadata": {},
   "source": [
    "### Data display "
   ]
  },
  {
   "cell_type": "code",
   "execution_count": 7,
   "metadata": {},
   "outputs": [
    {
     "data": {
      "image/png": "[encoded data removed]",
      "text/plain": [
       "<matplotlib.figure.Figure at 0x7f8a844ad210>"
      ]
     },
     "metadata": {},
     "output_type": "display_data"
    }
   ],
   "source": [
    "plt.figure(figsize=(15,5))\n",
    "\n",
    "if experiment=='A':\n",
    "    plt.subplot(131) ; plt.imshow(V,cmap=plt.cm.inferno,vmin=0,vmax=np.pi,alpha=0.5); plt.title('Orientations V')\n",
    "    plot_directions(V,8,2)\n",
    "# Indeed, in experiment B there is no \"ground truth\" for the orientations V.    \n",
    "    \n",
    "plt.subplot(132) ; plt.imshow(X); plt.title('True classes X')\n",
    "plt.subplot(133) ; plt.imshow(Y[:,:,0]); plt.title('Observation Y')\n",
    "\n",
    "plt.show()"
   ]
  },
  {
   "cell_type": "markdown",
   "metadata": {},
   "source": [
    "## HMF segmentation"
   ]
  },
  {
   "cell_type": "code",
   "execution_count": null,
   "metadata": {},
   "outputs": [],
   "source": [
    "\n",
    "parseg = parameters.ParamsSeg()\n",
    "\n",
    "parseg.mpm = True #MPM [true] or MAP [False] segmentation.\n",
    "parseg.tmf = False\n",
    "pargibbs = parameters.apply_parseg_pargibbs(parseg,pargibbs) \n",
    "\n",
    "\n",
    "print '---------------HMF---------------------'\n",
    "start = time.time()\n",
    "\n",
    "X_hmf,_,Ux_hmf,_, parsem_hmf = sot.seg_otmf(parseg,pargibbs)\n",
    "\n",
    "## \n",
    "end = time.time() - start\n",
    "print 'Time : %.2f s'%end  \n",
    "print '------------------------------------'\n",
    "#"
   ]
  },
  {
   "cell_type": "markdown",
   "metadata": {},
   "source": [
    "### Displaying the result"
   ]
  },
  {
   "cell_type": "code",
   "execution_count": null,
   "metadata": {},
   "outputs": [],
   "source": [
    "error = calc_error(X,X_hmf)\n",
    "error = min(error, 1-error)\n",
    "\n",
    "plt.figure(figsize=(10,10))\n",
    "\n",
    "plt.subplot(221) ; plt.imshow(X); plt.title('True classes X')\n",
    "plt.subplot(222) ; plt.imshow(Y[:,:,0]); plt.title('Observation Y')\n",
    "plt.subplot(223) ; plt.imshow(X_hmf); plt.title('Segmentation of x : %.2f / 100 '%(100*error))\n",
    "if parseg.mpm:\n",
    "    plt.subplot(224) ; plt.imshow(Ux_hmf,vmin=0,vmax=1); plt.title('Uncertainties on x (high: black, low:white)')\n",
    "plt.show()"
   ]
  },
  {
   "cell_type": "markdown",
   "metadata": {},
   "source": [
    "## OTMF segmentation"
   ]
  },
  {
   "cell_type": "code",
   "execution_count": null,
   "metadata": {},
   "outputs": [],
   "source": [
    "###==============================================================================\n",
    "### Segmentation OTMF\n",
    "#####==============================================================================\n",
    "parseg.tmf = True\n",
    "pargibbs = parameters.apply_parseg_pargibbs(parseg,pargibbs) # transfetrt a l'autre jeu de parametre\n",
    "print '---------------OTMF--------------------'\n",
    "start = time.time()\n",
    "\n",
    "\n",
    "X_otmf,V_otmf,Ux_otmf,Uv_otmf, parsem_otmf = sot.seg_otmf(parseg,pargibbs)\n",
    "\n",
    "## \n",
    "end = time.time() - start\n",
    "print 'Time : %.2f s'%end  \n",
    "print '------------------------------------'"
   ]
  },
  {
   "cell_type": "code",
   "execution_count": null,
   "metadata": {},
   "outputs": [],
   "source": [
    "error = calc_error(X,X_otmf)\n",
    "error = min(error, 1-error)\n",
    "\n",
    "plt.figure(figsize=(15,15))\n",
    "\n",
    "if experiment=='A':\n",
    "    plt.subplot(331) ; plt.imshow(V,cmap=plt.cm.inferno,vmin=0,vmax=np.pi,alpha=0.5); plt.title('Orientations V')\n",
    "    plot_directions(V,8,2)\n",
    "plt.subplot(332) ; plt.imshow(X); plt.title('True classes X')\n",
    "plt.subplot(333) ; plt.imshow(Y[:,:,0]); plt.title('Observation Y')\n",
    "\n",
    "plt.subplot(334)\n",
    "plt.imshow(V_otmf,cmap=plt.cm.inferno,vmin=0,vmax=np.pi,alpha=0.5); plt.title('Orientations V')\n",
    "plot_directions(V_otmf,8,2)\n",
    "plt.subplot(335) ; plt.imshow(X_otmf); plt.title('Segmentation of x : %.2f / 100 '%(100*error))\n",
    "\n",
    "plt.subplot(337); plt.imshow(Uv_otmf,vmin=0,vmax=1); plt.title('Uncertainties on v (high: black, low:white)')\n",
    "plt.subplot(338); plt.imshow(Ux_otmf,vmin=0,vmax=1); plt.title('Uncertainties on v (high: black, low:white)')\n",
    "\n",
    "plt.show()"
   ]
  },
  {
   "cell_type": "code",
   "execution_count": null,
   "metadata": {
    "collapsed": true
   },
   "outputs": [],
   "source": []
  }
 ],
 "metadata": {
  "kernelspec": {
   "display_name": "Python 2",
   "language": "python",
   "name": "python2"
  },
  "language_info": {
   "codemirror_mode": {
    "name": "ipython",
    "version": 2
   },
   "file_extension": ".py",
   "mimetype": "text/x-python",
   "name": "python",
   "nbconvert_exporter": "python",
   "pygments_lexer": "ipython2",
   "version": "2.7.14"
  }
 },
 "nbformat": 4,
 "nbformat_minor": 2
}
